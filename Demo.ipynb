{
 "cells": [
  {
   "cell_type": "code",
   "execution_count": null,
   "metadata": {},
   "outputs": [],
   "source": [
    "#%%\n",
    "from scipy.signal import medfilt\n",
    "from spectral import imshow, view_cube\n",
    "import spectral.io.envi as envi\n",
    "import numpy as np\n",
    "import matplotlib.pyplot as plt\n",
    "import matplotlib\n",
    "import os\n",
    "from PIL import Image\n",
    "from sklearn.cluster import MiniBatchKMeans, KMeans\n",
    "from sklearn.metrics.pairwise import pairwise_distances_argmin\n",
    "from scipy.sparse import csr_matrix\n",
    "from scipy.sparse.csgraph import connected_components\n",
    "from skimage import measure\n",
    "from sklearn.utils import resample\n",
    "from scipy import spatial\n",
    "from numpy import dot\n",
    "from numpy.linalg import norm\n",
    "from scipy.spatial import distance\n",
    "from pathlib                 import Path\n",
    "import glob\n",
    "\n",
    "\n",
    "plt.close('all')\n",
    "path = glob.glob(r'./Train_Data/HSI_Data/*')\n",
    "filename=path[0][path[0].rfind('\\\\')+1:]\n",
    "print(filename)\n",
    "img_rgb = Image.open(os.path.join(path[0], filename+'.png')).convert('RGB')\n",
    "img_rgb_ar = np.array(img_rgb)\n",
    "view_rgb = imshow(img_rgb_ar)\n",
    "hsi_ref = envi.open(os.path.join(path[0], filename+'.hdr'),\\\n",
    "                      os.path.join(path[0], filename+'.dat'))\n",
    "hsi_np = hsi_ref.asarray()\n",
    "Mask = np.load('./Train_Data/Valid_Mask/'+filename+'.npy')"
   ]
  },
  {
   "cell_type": "code",
   "execution_count": null,
   "metadata": {},
   "outputs": [],
   "source": [
    "#%% filtering the peanut spectra with 1x5 convolutional filter\n",
    "row,col = np.where(Mask==1)\n",
    "hsi_p=hsi_np[row,col]\n",
    "hsi_filtered=np.zeros((len(hsi_p),299))\n",
    "\n",
    "rand_np = np.copy(hsi_np)\n",
    "for i in range(len(hsi_p)):\n",
    "    rand_np[row[i],col[i]] = medfilt(hsi_np[row[i],col[i]],5)"
   ]
  },
  {
   "cell_type": "code",
   "execution_count": null,
   "metadata": {},
   "outputs": [],
   "source": [
    "#%% Normalize the peanut spectra\n",
    "for i in range(len(row)):\n",
    "    rand_np[row[i],col[i]]=(rand_np[row[i],col[i]]-min(rand_np[row[i],col[i]]))/(max(rand_np[row[i],col[i]])-min(rand_np[row[i],col[i]]))\n"
   ]
  },
  {
   "cell_type": "code",
   "execution_count": null,
   "metadata": {},
   "outputs": [],
   "source": [
    "all_peanut_pixels=rand_np[row,col]\n",
    "all_peanut_pixels.T.shape"
   ]
  },
  {
   "cell_type": "code",
   "execution_count": null,
   "metadata": {},
   "outputs": [],
   "source": [
    "#%%\n",
    "from Model import *\n",
    "import matplotlib.pyplot as plt\n",
    "\n",
    "\n",
    "# def main():\n",
    "\n",
    "# load the data from the pickle file\n",
    "\n",
    "valid_mask=Mask.astype(bool)\n",
    "# trim the noisy bands\n",
    "hsi_image = rand_np[:,:,50:-50]\n",
    "x_ax=np.linspace(402,998,299)\n",
    "x_ax=x_ax[50:-50]\n",
    "img_shape = hsi_image.shape\n",
    "n_r, n_c, n_b = hsi_image.shape\n",
    "\n",
    "# load the wavelength information\n",
    "\n",
    "# reshape the data because SPICE takes an MxN array, not a full HSI cube\n",
    "hsi_image = np.reshape(hsi_image, (img_shape[0]*img_shape[1], img_shape[2]))\n",
    "valid_array = np.reshape(valid_mask, (img_shape[0]*img_shape[1],))\n",
    "# take the hsi data at the \"valid\" points\n",
    "M = hsi_image[valid_array, :]\n",
    "\n",
    "# since analyzing the image will take a long time, we will down sample the data for the sake of this demo\n",
    "input_data = M.T.astype(float)\n",
    "ds_data = input_data[:, ::20] \n",
    "\n",
    "# get the default parameters from the SPICE.py file\n",
    "params = SPICEParameters()\n",
    "params.qp_solver = 'QPP'\n",
    "params.gamma=10\n",
    "params.u=0.1\n",
    "# run the spice algorithm on the down sampled data\n",
    "[endmembers, ds_proportions] = SPICE(ds_data, params)\n",
    "\n",
    "# prompt the user to see if they would like to graph the output\n",
    "# if input('Would you like to plot the output? (Y/n): ') == 'n':\n",
    "#     return\n",
    "\n",
    "# plot the wavelength versus the reflectance\n",
    "n_em = endmembers.shape[1]\n",
    "plt.plot(x_ax, endmembers)\n",
    "plt.xlabel('wavelength (nm)')\n",
    "plt.ylabel('reflectance')\n",
    "plt.legend([str(i + 1) for i in range(n_em)])\n",
    "plt.title('SPICE Endmembers')"
   ]
  },
  {
   "cell_type": "code",
   "execution_count": null,
   "metadata": {},
   "outputs": [],
   "source": [
    "#%%\n",
    "\n",
    "#!/usr/bin/env python3\n",
    "# -*- coding: utf-8 -*-\n",
    "\"\"\"\n",
    "Created on Mon Sep 28 10:58:03 2020\n",
    "\n",
    "@author: weihuang\n",
    "\"\"\"\n",
    "# load the data from the pickle file\n",
    "\n",
    "valid_mask=Mask.astype(bool)\n",
    "# trim the noisy bands\n",
    "hsi_image = rand_np[:,:,50:-50]\n",
    "x_ax=np.linspace(402,998,299)\n",
    "x_ax=x_ax[50:-50]\n",
    "img_shape = hsi_image.shape\n",
    "n_r, n_c, n_b = hsi_image.shape\n",
    "\n",
    "# load the wavelength information\n",
    "\n",
    "# reshape the data because SPICE takes an MxN array, not a full HSI cube\n",
    "hsi_image = np.reshape(hsi_image, (img_shape[0]*img_shape[1], img_shape[2]))\n",
    "valid_array = np.reshape(valid_mask, (img_shape[0]*img_shape[1],))\n",
    "# take the hsi data at the \"valid\" points\n",
    "M = hsi_image[valid_array, :]\n",
    "\n",
    "# since analyzing the image will take a long time, we will down sample the data for the sake of this demo\n",
    "input_data = M.T.astype(float)\n",
    "ds_data = input_data[:, ::20]\n",
    "\n",
    "# unmix the data using the non-downsampled array and the endmembers that SPICE discovered\n",
    "\n",
    "\n",
    "if params.qp_solver == 'cvxopt':\n",
    "    P = unmix_cvxopt(input_data, endmembers)\n",
    "else:\n",
    "    scaler = input_data.max()\n",
    "    P = unmix_qpp(input_data/scaler,endmembers/scaler)\n",
    "\n",
    "# re-ravel abundance maps\n",
    "P_imgs = []\n",
    "for i in range(n_em):\n",
    "    map_lin = np.zeros((n_r * n_c,))\n",
    "    map_lin[valid_array] = P[:, i]\n",
    "    P_imgs.append(np.reshape(map_lin, (n_r, n_c)))\n",
    "\n",
    "# display abundance maps in the form of a subplot\n",
    "\n",
    "fig, axes = plt.subplots(2, int(n_em/2) + 1, squeeze=True,figsize=(30,8))\n",
    "\n",
    "for i in range(n_em):\n",
    "    im = axes.flat[i].imshow(P_imgs[i], vmin=0, vmax=1)\n",
    "    axes.flat[i].set_title('SPICE Abundance Map %d' % (i + 1))\n",
    "\n",
    "# add the original RGB image to the subplot\n",
    "im = axes.flat[n_em].imshow(img_rgb_ar)\n",
    "axes.flat[n_em].set_title(filename)\n",
    "fig.colorbar(im, ax=axes.ravel().tolist())\n",
    "\n",
    "# delete any empty subplots\n",
    "if (n_em % 2 == 0):\n",
    "    fig.delaxes(axes.flatten()[(2*(int(n_em/2)+1)) -1])\n",
    "# plt.savefig(filename+'.jpg')\n",
    "plt.show()\n",
    "    "
   ]
  },
  {
   "cell_type": "code",
   "execution_count": null,
   "metadata": {},
   "outputs": [],
   "source": [
    "p=np.copy(P_imgs[1])\n",
    "p[p>=0.5]=1\n",
    "p[p<0.5]=0\n",
    "plt.imshow(p)"
   ]
  },
  {
   "cell_type": "code",
   "execution_count": null,
   "metadata": {},
   "outputs": [],
   "source": [
    "r_p,c_p=np.where(p==1)"
   ]
  },
  {
   "cell_type": "code",
   "execution_count": null,
   "metadata": {},
   "outputs": [],
   "source": [
    "pb=rand_np[r_p,c_p]"
   ]
  },
  {
   "cell_type": "code",
   "execution_count": null,
   "metadata": {},
   "outputs": [],
   "source": [
    "np.shape(pb)"
   ]
  },
  {
   "cell_type": "code",
   "execution_count": null,
   "metadata": {},
   "outputs": [],
   "source": [
    "positive_bags=np.array_split(pb[0:2380],60)"
   ]
  },
  {
   "cell_type": "code",
   "execution_count": null,
   "metadata": {},
   "outputs": [],
   "source": [
    "plt.plot(positive_bags[0][0,:])"
   ]
  },
  {
   "cell_type": "code",
   "execution_count": null,
   "metadata": {},
   "outputs": [],
   "source": [
    "neg=P_imgs[3]+P_imgs[2]+P_imgs[0]\n",
    "neg[neg>=0.5]=1\n",
    "neg[neg<0.5]=0\n",
    "plt.imshow(neg)\n",
    "r_n,c_n=np.where(neg==1)"
   ]
  },
  {
   "cell_type": "code",
   "execution_count": null,
   "metadata": {},
   "outputs": [],
   "source": [
    "nb=rand_np[r_n,c_n]"
   ]
  },
  {
   "cell_type": "code",
   "execution_count": null,
   "metadata": {},
   "outputs": [],
   "source": [
    "nb=np.copy(rand_np)\n",
    "nb=np.ma.array(nb, mask=False)\n",
    "nb.mask[r_p,c_p]=True\n",
    "nb.compressed()"
   ]
  },
  {
   "cell_type": "code",
   "execution_count": null,
   "metadata": {},
   "outputs": [],
   "source": [
    "nb.shape"
   ]
  },
  {
   "cell_type": "code",
   "execution_count": null,
   "metadata": {},
   "outputs": [],
   "source": [
    "len(r_n)"
   ]
  },
  {
   "cell_type": "code",
   "execution_count": null,
   "metadata": {},
   "outputs": [],
   "source": [
    "negative_bags=np.array_split(nb[0:29932],60)\n",
    "negative_bags_test=np.array_split(nb[29932:-1],60)"
   ]
  },
  {
   "cell_type": "code",
   "execution_count": null,
   "metadata": {},
   "outputs": [],
   "source": [
    "bags=np.array([])\n",
    "bags=np.append(bags,np.asarray(positive_bags))\n",
    "bags=np.append(bags,np.asarray(negative_bags))\n",
    "[np.asarray(positive_bags), np.asarray(negative_bags)]"
   ]
  },
  {
   "cell_type": "code",
   "execution_count": null,
   "metadata": {},
   "outputs": [],
   "source": [
    "np.shape(bags)"
   ]
  },
  {
   "cell_type": "code",
   "execution_count": null,
   "metadata": {},
   "outputs": [],
   "source": [
    "plt.plot(negative_bags[0][0,:])"
   ]
  },
  {
   "cell_type": "code",
   "execution_count": null,
   "metadata": {},
   "outputs": [],
   "source": [
    "labels=np.zeros((1,120))\n",
    "labels[0,0:60]=1"
   ]
  },
  {
   "cell_type": "code",
   "execution_count": null,
   "metadata": {},
   "outputs": [],
   "source": [
    "len(r_n)"
   ]
  },
  {
   "cell_type": "code",
   "execution_count": null,
   "metadata": {},
   "outputs": [],
   "source": [
    "for i in range(len(r_n)):\n",
    "    plt.plot(rand_np[r_n[i],c_n[i],:])"
   ]
  },
  {
   "cell_type": "code",
   "execution_count": null,
   "metadata": {},
   "outputs": [],
   "source": [
    "labels_test=Mask\n",
    "labels_test[r_n,c_n]=0\n",
    "labels_test=np.reshape(labels_test, (labels_test.shape[0]*labels_test.shape[1],))\n",
    "labels_test.shape"
   ]
  },
  {
   "cell_type": "code",
   "execution_count": null,
   "metadata": {},
   "outputs": [],
   "source": [
    "import numpy as np\n",
    "from sklearn.metrics import roc_curve, auc\n",
    "import matplotlib.pyplot as plt\n",
    "\n",
    "from miace.detectors import ace_det, smf_det\n",
    "from miace.mi_target import mi_target\n",
    "\n",
    "results = {'smf': {}, 'ace': {}}\n",
    "\n",
    "parameters = {\n",
    "    \"global_background_flag\": False,\n",
    "    \"pos_label\": 1,\n",
    "    \"neg_label\": 0,\n",
    "    \"max_iter\": 100,\n",
    "    \"init_type\": 1,\n",
    "\t\"init_k\": 1000\n",
    "}\n",
    "\n",
    "example_data = np.load('datasets/simple_example_data.npz')\n",
    "\n",
    "# to accomodate bags of difference sizes\n",
    "bag_list = [example_data['data_bags'][i] for i in range(example_data['data_bags'].shape[0])]\n",
    "\n",
    "#to test whether the methods work on different sizes. combining a few bags together to create uneven bags\n",
    "bag_list[0] = np.vstack((bag_list[0], bag_list[1]))\n",
    "bag_list.pop(1)\n",
    "labels = np.delete(example_data['labels'], 1, 1)\n",
    "\n",
    "# SMF init1\n",
    "print('------------ Spectral Matched Filter -------------')\n",
    "parameters['method_flag'] = False\n",
    "parameters['sample_por'] = 1\n",
    "labels=np.zeros((1,120))\n",
    "labels[0,0:60]=1\n",
    "# smf_opt_target, _, b_mu, sig_inv_half, _ = mi_target(\n",
    "#     example_data['data_bags'], example_data['labels'], parameters)\n",
    "\n",
    "smf_opt_target, _, b_mu, sig_inv_half, _ = mi_target(np.asarray(bags), labels, parameters)\n",
    "\n",
    "print('Detecting SMF...')\n",
    "# smf_data, _, _ = smf_det(example_data['x_test'], smf_opt_target.T, b_mu, np.matmul(sig_inv_half.T, sig_inv_half))\n",
    "smf_data, _, _ = smf_det(np.reshape(rand_np,(rand_np.shape[0]*rand_np.shape[1],rand_np.shape[2])).T, smf_opt_target.T, b_mu, np.matmul(sig_inv_half.T, sig_inv_half))\n",
    "# ACE init 1\n",
    "print('------------ Adaptive Cosine Estimator -------------')\n",
    "parameters['method_flag'] = True\n",
    "parameters['sample_por'] = 1\n",
    "\n",
    "# ace_opt_target, _, b_mu, sig_inv_half, _ = mi_target(\n",
    "#     example_data['data_bags'], example_data['labels'], parameters)\n",
    "\n",
    "ace_opt_target, _, b_mu, sig_inv_half, _ = mi_target(np.asarray(bags), labels, parameters)\n",
    "\n",
    "print('Detecting ACE...')\n",
    "# ace_data, _, _ = ace_det(example_data['x_test'], ace_opt_target.T, b_mu, np.matmul(sig_inv_half.T, sig_inv_half))\n",
    "ace_data, _, _ = ace_det(np.reshape(rand_np,(rand_np.shape[0]*rand_np.shape[1],rand_np.shape[2])).T, ace_opt_target.T, b_mu, np.matmul(sig_inv_half.T, sig_inv_half))\n",
    "\n",
    "print('\\nPlotting Target Concept and ROC Curve...')\n",
    "\n",
    "# Get false and true positive rate\n",
    "# labels_point_test = example_data['labels_point_test']\n",
    "labels_point_test = labels_test\n",
    "\n",
    "smf_fpr, smf_tpr, smf_threshold = roc_curve(labels_point_test, smf_data, pos_label=1)\n",
    "ace_fpr, ace_tpr, ace_threshold = roc_curve(labels_point_test, ace_data, pos_label=1)\n",
    "\n",
    "\n",
    "f, (ax1, ax2) = plt.subplots(2, sharex=False, sharey=False)\n",
    "\n",
    "# Target Concept\n",
    "ax1.plot(np.linspace(400,1000,len(smf_opt_target)),smf_opt_target, 'b', label='SMF Target Concept')\n",
    "ax1.plot(np.linspace(400,1000,len(ace_opt_target)),ace_opt_target, 'r', label='ACE Target Concept')\n",
    "ax1.legend(loc='lower right')\n",
    "ax1.set_xlabel('Band Number')\n",
    "\n",
    "# ROC\n",
    "ax2.plot(smf_fpr, smf_tpr, 'b', label='SMF ROC')\n",
    "ax2.plot(ace_fpr, ace_tpr, 'r', label='ACE ROC')\n",
    "ax2.plot([0, 1], [0, 1], 'r--')\n",
    "ax2.legend(loc='lower right')\n",
    "ax2.set_xlabel('Probability of False Alarm')\n",
    "ax2.set_ylabel('Probability of Detection')\n",
    "\n",
    "ax2.set_xlim([0, 1])\n",
    "ax2.set_ylim([0, 1])\n",
    "\n",
    "plt.tight_layout()\n",
    "plt.show()\n"
   ]
  },
  {
   "cell_type": "code",
   "execution_count": 33,
   "metadata": {},
   "outputs": [
    {
     "name": "stderr",
     "output_type": "stream",
     "text": [
      "C:\\ProgramData\\Anaconda3\\envs\\spice_env\\lib\\site-packages\\spectral\\io\\envi.py:175: UserWarning: Parameters with non-lowercase names encountered and converted to lowercase. To retain source file parameter name capitalization, set spectral.settings.envi_support_nonlowercase_params to True.\n",
      "  warnings.warn(msg)\n"
     ]
    },
    {
     "data": {
      "image/png": "[encoded data removed]",
      "text/plain": [
       "<Figure size 432x288 with 2 Axes>"
      ]
     },
     "metadata": {
      "needs_background": "light"
     },
     "output_type": "display_data"
    }
   ],
   "source": [
    "# plt.close('all')\n",
    "# path = glob.glob(r'./Train_Data/HSI_Data/*')\n",
    "# filename=path[0][path[0].rfind('\\\\')+1:]\n",
    "# print(filename)\n",
    "# img_rgb = Image.open(os.path.join(path[0], filename+'.png')).convert('RGB')\n",
    "# img_rgb_ar = np.array(img_rgb)\n",
    "# view_rgb = imshow(img_rgb_ar)\n",
    "# hsi_ref = envi.open(os.path.join(path[0], filename+'.hdr'),\\\n",
    "#                       os.path.join(path[0], filename+'.dat'))\n",
    "# hsi_np = hsi_ref.asarray()\n",
    "# Mask = np.load('./Train_Data/Valid_Mask/'+filename+'.npy')\n",
    "\n",
    "hsi_ref = envi.open(r'U:\\AT\\Data\\lab_HSI\\Greenhouse_202111\\Reflectance folders\\20211111_S3B2R2W-f_ref\\20211111_S3B2R2W-f_ref.hdr',\\\n",
    "                      r'U:\\AT\\Data\\lab_HSI\\Greenhouse_202111\\Reflectance folders\\20211111_S3B2R2W-f_ref\\20211111_S3B2R2W-f_ref.dat')\n",
    "hsi_np = hsi_ref.asarray()\n",
    "Mask = np.load(r'U:\\AT\\Data\\lab_HSI\\Greenhouse_202111\\Masks\\20211111_S3B2R2W-f_ref.npy')\n",
    "#%% filtering the peanut spectra with 1x5 convolutional filter\n",
    "row,col = np.where(Mask==1)\n",
    "hsi_p=hsi_np[row,col]\n",
    "hsi_filtered=np.zeros((len(hsi_p),299))\n",
    "\n",
    "rand_np = np.copy(hsi_np)\n",
    "for i in range(len(hsi_p)):\n",
    "    rand_np[row[i],col[i]] = medfilt(hsi_np[row[i],col[i]],5)\n",
    "#%% Normalize the peanut spectra\n",
    "for i in range(len(row)):\n",
    "    rand_np[row[i],col[i]]=(rand_np[row[i],col[i]]-min(rand_np[row[i],col[i]]))/(max(rand_np[row[i],col[i]])-min(rand_np[row[i],col[i]]))\n",
    "labels_test=Mask\n",
    "labels_test[r_n,c_n]=0\n",
    "labels_test=np.reshape(labels_test, (labels_test.shape[0]*labels_test.shape[1],))\n",
    "labels_test.shape\n",
    "\n",
    "smf_data, _, _ = smf_det(np.reshape(rand_np,(rand_np.shape[0]*rand_np.shape[1],rand_np.shape[2])).T, smf_opt_target.T, b_mu, np.matmul(sig_inv_half.T, sig_inv_half))\n",
    "ace_data, _, _ = ace_det(np.reshape(rand_np,(rand_np.shape[0]*rand_np.shape[1],rand_np.shape[2])).T, ace_opt_target.T, b_mu, np.matmul(sig_inv_half.T, sig_inv_half))\n",
    "labels_point_test = labels_test\n",
    "\n",
    "smf_fpr, smf_tpr, smf_threshold = roc_curve(labels_point_test, smf_data, pos_label=1)\n",
    "ace_fpr, ace_tpr, ace_threshold = roc_curve(labels_point_test, ace_data, pos_label=1)\n",
    "\n",
    "\n",
    "f, (ax1, ax2) = plt.subplots(2, sharex=False, sharey=False)\n",
    "\n",
    "# Target Concept\n",
    "ax1.plot(np.linspace(400,1000,len(smf_opt_target)),smf_opt_target, 'b', label='SMF Target Concept')\n",
    "ax1.plot(np.linspace(400,1000,len(ace_opt_target)),ace_opt_target, 'r', label='ACE Target Concept')\n",
    "ax1.legend(loc='lower right')\n",
    "ax1.set_xlabel('Band Number')\n",
    "\n",
    "# ROC\n",
    "ax2.plot(smf_fpr, smf_tpr, 'b', label='SMF ROC')\n",
    "ax2.plot(ace_fpr, ace_tpr, 'r', label='ACE ROC')\n",
    "ax2.plot([0, 1], [0, 1], 'r--')\n",
    "ax2.legend(loc='lower right')\n",
    "ax2.set_xlabel('Probability of False Alarm')\n",
    "ax2.set_ylabel('Probability of Detection')\n",
    "ax2.set_title('20211111_S3B2R2W-f_ref')\n",
    "ax2.set_xlim([0, 1])\n",
    "ax2.set_ylim([0, 1])\n",
    "\n",
    "plt.tight_layout()\n",
    "plt.show()"
   ]
  }
 ],
 "metadata": {
  "interpreter": {
   "hash": "93390b0b36b2b0d3fe78ef8552ca0d405b8d63ab2e4ad155ff879ca7bf99d793"
  },
  "kernelspec": {
   "display_name": "Python 3.7.11 ('spice_env')",
   "language": "python",
   "name": "python3"
  },
  "language_info": {
   "codemirror_mode": {
    "name": "ipython",
    "version": 3
   },
   "file_extension": ".py",
   "mimetype": "text/x-python",
   "name": "python",
   "nbconvert_exporter": "python",
   "pygments_lexer": "ipython3",
   "version": "3.7.11"
  },
  "orig_nbformat": 4
 },
 "nbformat": 4,
 "nbformat_minor": 2
}
